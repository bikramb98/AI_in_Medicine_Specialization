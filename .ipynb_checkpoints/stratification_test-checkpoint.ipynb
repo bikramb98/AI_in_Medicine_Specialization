{
 "cells": [
  {
   "cell_type": "code",
   "execution_count": 1,
   "metadata": {},
   "outputs": [],
   "source": [
    "import numpy as np\n",
    "import pandas as pd\n",
    "import sklearn\n",
    "from sklearn.model_selection import train_test_split"
   ]
  },
  {
   "cell_type": "markdown",
   "metadata": {},
   "source": [
    "[Link to dataset used](https://www.kaggle.com/andrewmvd/fetal-health-classification)"
   ]
  },
  {
   "cell_type": "code",
   "execution_count": 2,
   "metadata": {},
   "outputs": [],
   "source": [
    "df = pd.read_csv('fetal_health.csv')"
   ]
  },
  {
   "cell_type": "code",
   "execution_count": 3,
   "metadata": {},
   "outputs": [],
   "source": [
    "X = df.iloc[:,:-1]\n",
    "y = df.iloc[:,-1]"
   ]
  },
  {
   "cell_type": "markdown",
   "metadata": {},
   "source": [
    "# With stratification "
   ]
  },
  {
   "cell_type": "markdown",
   "metadata": {},
   "source": [
    "Note the parameter <i>stratify</i> on the first line"
   ]
  },
  {
   "cell_type": "code",
   "execution_count": 4,
   "metadata": {},
   "outputs": [],
   "source": [
    "X_train, X_test, y_train_stratified, y_test_stratified = train_test_split(X, y, test_size=0.33, random_state=42,stratify=y)\n",
    "\n",
    "unique_y_train_stratified, counts_y_train_stratified = np.unique(y_train_stratified, return_counts=True)\n",
    "unique_y_test_stratified, counts_y_test_stratified = np.unique(y_test_stratified, return_counts=True)\n",
    "\n",
    "percentages_y_train_stratified = dict(zip(unique_y_train_stratified, ((counts_y_train_stratified * 100) / len(y_train_stratified))))\n",
    "percentages_y_test_stratified = dict(zip(unique_y_test_stratified, ((counts_y_test_stratified * 100) / len(y_test_stratified))))"
   ]
  },
  {
   "cell_type": "code",
   "execution_count": 5,
   "metadata": {},
   "outputs": [
    {
     "data": {
      "text/plain": [
       "{1.0: 77.80898876404494, 2.0: 13.904494382022472, 3.0: 8.286516853932584}"
      ]
     },
     "execution_count": 5,
     "metadata": {},
     "output_type": "execute_result"
    }
   ],
   "source": [
    "percentages_y_train_stratified"
   ]
  },
  {
   "cell_type": "code",
   "execution_count": 6,
   "metadata": {},
   "outputs": [
    {
     "data": {
      "text/plain": [
       "{1.0: 77.92022792022792, 2.0: 13.817663817663817, 3.0: 8.262108262108262}"
      ]
     },
     "execution_count": 6,
     "metadata": {},
     "output_type": "execute_result"
    }
   ],
   "source": [
    "percentages_y_test_stratified"
   ]
  },
  {
   "cell_type": "markdown",
   "metadata": {},
   "source": [
    "Note how the percentage of the different classes for all the 3 classes in both the train and test set is equal."
   ]
  },
  {
   "cell_type": "markdown",
   "metadata": {},
   "source": [
    "Now, let's see what happens to the split without stratification"
   ]
  },
  {
   "cell_type": "markdown",
   "metadata": {},
   "source": [
    "# Without stratification"
   ]
  },
  {
   "cell_type": "code",
   "execution_count": 7,
   "metadata": {},
   "outputs": [],
   "source": [
    "X_train, X_test, y_train, y_test = train_test_split(X, y, test_size=0.33, random_state=42)\n",
    "\n",
    "unique_y_train, counts_y_train = np.unique(y_train, return_counts=True)\n",
    "unique_y_test, counts_y_test = np.unique(y_test, return_counts=True)\n",
    "\n",
    "percentages_y_train = dict(zip(unique_y_train, ((counts_y_train * 100) / len(y_train))))\n",
    "percentages_y_test = dict(zip(unique_y_test, ((counts_y_test * 100) / len(y_test))))"
   ]
  },
  {
   "cell_type": "code",
   "execution_count": 8,
   "metadata": {},
   "outputs": [
    {
     "data": {
      "text/plain": [
       "{1.0: 77.31741573033707, 2.0: 13.48314606741573, 3.0: 9.19943820224719}"
      ]
     },
     "execution_count": 8,
     "metadata": {},
     "output_type": "execute_result"
    }
   ],
   "source": [
    "percentages_y_train"
   ]
  },
  {
   "cell_type": "code",
   "execution_count": 9,
   "metadata": {},
   "outputs": [
    {
     "data": {
      "text/plain": [
       "{1.0: 78.91737891737891, 2.0: 14.672364672364672, 3.0: 6.410256410256411}"
      ]
     },
     "execution_count": 9,
     "metadata": {},
     "output_type": "execute_result"
    }
   ],
   "source": [
    "percentages_y_test"
   ]
  },
  {
   "cell_type": "markdown",
   "metadata": {},
   "source": [
    "Note how the percentage of the different classes is different in both the train and test set, especially for class 3"
   ]
  }
 ],
 "metadata": {
  "kernelspec": {
   "display_name": "Python 3",
   "language": "python",
   "name": "python3"
  },
  "language_info": {
   "codemirror_mode": {
    "name": "ipython",
    "version": 3
   },
   "file_extension": ".py",
   "mimetype": "text/x-python",
   "name": "python",
   "nbconvert_exporter": "python",
   "pygments_lexer": "ipython3",
   "version": "3.7.6"
  }
 },
 "nbformat": 4,
 "nbformat_minor": 4
}
